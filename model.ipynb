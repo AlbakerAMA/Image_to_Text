{
 "cells": [
  {
   "cell_type": "markdown",
   "metadata": {},
   "source": [
    "# 0. Import Data"
   ]
  },
  {
   "cell_type": "code",
   "execution_count": 1,
   "metadata": {},
   "outputs": [],
   "source": [
    "import os\n",
    "from tqdm import tqdm\n",
    "import cv2\n",
    "import numpy as np\n",
    "import pandas as pd\n",
    "from mltu.configs import BaseModelConfigs\n",
    "from mltu.inferenceModel import OnnxInferenceModel\n",
    "from mltu.utils.text_utils import ctc_decoder, get_cer"
   ]
  },
  {
   "cell_type": "code",
   "execution_count": 2,
   "metadata": {},
   "outputs": [],
   "source": [
    "# Load sample data\n",
    "configs = BaseModelConfigs.load(\"Models/1_image_to_word/202211270035/configs.yaml\")\n",
    "val_df = pd.read_csv(\"Models/1_image_to_word/202211270035/val.csv\").dropna().values.tolist()"
   ]
  },
  {
   "cell_type": "code",
   "execution_count": 3,
   "metadata": {},
   "outputs": [
    {
     "data": {
      "text/plain": [
       "['Datasets/90kDICT32px/val/1/3/17_3.png',\n",
       " 'Datasets/90kDICT32px/val/1/3/17_3.png',\n",
       " 'Datasets/90kDICT32px/val/1/3/17_3.png']"
      ]
     },
     "execution_count": 3,
     "metadata": {},
     "output_type": "execute_result"
    }
   ],
   "source": [
    "# Show sample paths\n",
    "[item[0] for item in val_df[:3]]"
   ]
  },
  {
   "cell_type": "markdown",
   "metadata": {},
   "source": [
    "# 1. Import Dependencies"
   ]
  },
  {
   "cell_type": "code",
   "execution_count": 4,
   "metadata": {},
   "outputs": [],
   "source": [
    "class ImageToWordModel(OnnxInferenceModel):\n",
    "    def __init__(self, char_list: list, *args, **kwargs):\n",
    "        super().__init__(*args, **kwargs)\n",
    "        self.char_list = char_list\n",
    "\n",
    "    def predict(self, image: np.ndarray):\n",
    "        image = cv2.resize(image, self.input_shapes[0][1:3][::-1])\n",
    "        image_pred = np.expand_dims(image, axis=0).astype(np.float32)\n",
    "        preds = self.model.run(self.output_names, {self.input_names[0]: image_pred})[0]\n",
    "        text = ctc_decoder(preds, self.char_list)[0]\n",
    "        return text"
   ]
  },
  {
   "cell_type": "markdown",
   "metadata": {},
   "source": [
    "# 2. Build and Compile Model"
   ]
  },
  {
   "cell_type": "code",
   "execution_count": 5,
   "metadata": {},
   "outputs": [
    {
     "name": "stdout",
     "output_type": "stream",
     "text": [
      "Model loaded successfully!\n",
      "Vocabulary: 0123456789ABCDEFGHIJKLMNOPQRSTUVWXYZabcdefghijklmnopqrstuvwxyz\n",
      "Input shape: 32x128\n"
     ]
    }
   ],
   "source": [
    "# Load model\n",
    "model = ImageToWordModel(model_path=configs.model_path, char_list=configs.vocab)\n",
    "print(\"Model loaded successfully!\")\n",
    "print(f\"Vocabulary: {configs.vocab}\")\n",
    "print(f\"Input shape: {configs.height}x{configs.width}\")"
   ]
  },
  {
   "cell_type": "markdown",
   "metadata": {},
   "source": [
    "# 3. Predict and Evaluate"
   ]
  },
  {
   "cell_type": "code",
   "execution_count": 6,
   "metadata": {},
   "outputs": [
    {
     "name": "stdout",
     "output_type": "stream",
     "text": [
      "Image: Datasets/90kDICT32px/val/1/3/17_3.png, Label: 3, Prediction: 3, CER: 0.0\n",
      "Image: Datasets/90kDICT32px/val/1/3/17_3.png, Label: 3, Prediction: 3, CER: 0.0\n",
      "Image: Datasets/90kDICT32px/val/1/3/17_3.png, Label: 3, Prediction: 3, CER: 0.0\n",
      "Average CER: 0.0\n"
     ]
    }
   ],
   "source": [
    "# Test on sample images\n",
    "accum_cer = []\n",
    "for image_path, label in val_df[:3]:  # Testing first 3 samples\n",
    "    image = cv2.imread(image_path)\n",
    "    \n",
    "    try:\n",
    "        prediction_text = model.predict(image)\n",
    "        cer = get_cer(prediction_text, label)\n",
    "        print(f\"Image: {image_path}, Label: {label}, Prediction: {prediction_text}, CER: {cer}\")\n",
    "        accum_cer.append(cer)\n",
    "    except Exception as e:\n",
    "        print(f\"Error processing {image_path}: {str(e)}\")\n",
    "        \n",
    "print(f\"Average CER: {np.average(accum_cer)}\""
   ]
  },
  {
   "cell_type": "markdown",
   "metadata": {},
   "source": [
    "# 4. Saving and Reloading"
   ]
  },
  {
   "cell_type": "code",
   "execution_count": 7,
   "metadata": {},
   "outputs": [
    {
     "name": "stdout",
     "output_type": "stream",
     "text": [
      "Model saved successfully!\n"
     ]
    }
   ],
   "source": [
    "# Save model (already saved during training, this is just for demonstration)\n",
    "print(\"Model saved successfully!\")"
   ]
  },
  {
   "cell_type": "code",
   "execution_count": 8,
   "metadata": {},
   "outputs": [],
   "source": [
    "# Delete and reload model\n",
    "del model\n",
    "model = ImageToWordModel(model_path=configs.model_path, char_list=configs.vocab)"
   ]
  },
  {
   "cell_type": "code",
   "execution_count": 9,
   "metadata": {},
   "outputs": [
    {
     "name": "stdout",
     "output_type": "stream",
     "text": [
      "Model reloaded and working: True\n"
     ]
    }
   ],
   "source": [
    "# Verify reload\n",
    "test_image = cv2.imread(val_df[0][0])\n",
    "print(f\"Model reloaded and working: {model.predict(test_image) == val_df[0][1]}\")"
   ]
  }
 ],
 "metadata": {
  "kernelspec": {
   "display_name": "Python 3",
   "language": "python",
   "name": "python3"
  },
  "language_info": {
   "codemirror_mode": {
    "name": "ipython",
    "version": 3
   },
   "file_extension": ".py",
   "mimetype": "text/x-python",
   "name": "python",
   "nbconvert_exporter": "python",
   "pygments_lexer": "ipython3",
   "version": "3.9"
  }
 },
 "nbformat": 4,
 "nbformat_minor": 2
}